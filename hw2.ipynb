{
 "cells": [
  {
   "cell_type": "markdown",
   "metadata": {},
   "source": [
    "## algorithm design and anlysis-2025 spring  homework 2\n",
    "**Deadline**：2025.5.14\n",
    "\n",
    "**name**:\n",
    "\n",
    "\n",
    "note：\n",
    "---\n",
    "1. 带有\\*的题目，申请免上课的同学，必须完成，其他同学选作；\n",
    "2. 请独立完成，如求助了他人或者大模型，请著明，并且不可省略算法分析部分；\n",
    "4. 如若作答有雷同，全部取消成绩；\n",
    "3. 需要书面作答的题目，可以通过引用图片的形式添加，但是注意上传项目时包含所引用的图片的源文件；\n",
    "4. $log_n$ 默认表示$log_2{n}$;"
   ]
  },
  {
   "cell_type": "markdown",
   "metadata": {},
   "source": [
    "## 问题 1  \n",
    "\n",
    "> 给定一个已排序的链表的头 `head` ， *删除所有重复的元素，使每个元素只出现一次* 。返回 *已排序的链表* 。链表的类如下所示：\n",
    "\n",
    "```python\n",
    "class NodeList:\n",
    "    def __init__(self, val=None, right=None):\n",
    "        self.val   = val\n",
    "        self.right = right\n",
    "```\n",
    "\n",
    "输入是一个数组，你首先需要将数组转化为链表，然后删除链表中的重复元素，再遍历链表元素，以一个数组的形式返回。请设计一个算法解决上述任务，分析算法设计思路，计算时间复杂度, 并基于python编程实现。\n",
    "\n",
    "e.g.  输入：head=[1, 1, 2, 3, 3]   输出：[1, 2, 3]\n",
    "\n",
    "![image-20240502110020439](./fig/hw2q1.png)\n",
    "\n"
   ]
  },
  {
   "cell_type": "markdown",
   "metadata": {},
   "source": [
    "idea：顺着链表走一遍，发现重复就跳过，最终只保留每个数字第一次出现的位置"
   ]
  },
  {
   "cell_type": "code",
   "execution_count": 2,
   "metadata": {},
   "outputs": [
    {
     "name": "stdout",
     "output_type": "stream",
     "text": [
      "[1, 2, 3]\n"
     ]
    }
   ],
   "source": [
    "class NodeList:\n",
    "    def __init__(self, val=None, right=None):\n",
    "        self.val = val\n",
    "        self.right = right\n",
    "\n",
    "nums = [1, 1, 2, 3]\n",
    "dummy = NodeList(nums[0])\n",
    "p = dummy\n",
    "for x in nums[1:]:\n",
    "    p.right = NodeList(x)\n",
    "    p = p.right\n",
    "\n",
    "n = dummy\n",
    "while n and n.right:\n",
    "    if n.val == n.right.val:\n",
    "        n.right = n.right.right\n",
    "    else:\n",
    "        n = n.right\n",
    "\n",
    "ans = []\n",
    "tmp = dummy\n",
    "while tmp:\n",
    "    ans += [tmp.val]\n",
    "    tmp = tmp.right\n",
    "\n",
    "print(ans)\n"
   ]
  },
  {
   "cell_type": "markdown",
   "metadata": {},
   "source": [
    "## 问题 2  \n",
    "\n",
    "> 下面是一个经典的算法问题：\n",
    ">\n",
    "> - 给定包含n个整数的一个整数数组 `nums` 和一个整数目标值 `target`，请你在该数组中找出 **和为目标值** *`target`* 的那 **两个** 整数，并返回它们的**数组下标**。假设每种输入只会对应一个答案。但是，数组中同一个元素在答案里不能重复出现。你可以按任意顺序返回答案。\n",
    ">\n",
    "> 由于要多次查找数组中元素的位置，为了提高查询效率可以使用哈希表来存储数组中的数据，在哈希表中查询一个元素的复杂度为O(1)。 已知python中的字典是使用哈希表实现的，即使用`dict[key]`查询对应的value时间复杂度为O(1), python提供了查询字典是否包含某个key的功能：`key in dict`，时间复杂度也是O(1)\n",
    "\n",
    "请根据上面信息，设计一个时间复杂度为O(n) 的算法，解决上述算法问题\n",
    "\n",
    "e.g.   \n",
    "\n",
    "输入：nums=[2,7,11,15], target=9， 输出：[0，1]\n",
    "\n",
    "输入：nums=[3,2,4], target=6, 输出：[1,2]\n",
    "\n",
    "输入：nums=[3,3], target=6,  输出：[0,1]\n"
   ]
  },
  {
   "cell_type": "code",
   "execution_count": 4,
   "metadata": {},
   "outputs": [
    {
     "name": "stdout",
     "output_type": "stream",
     "text": [
      "[0, 1]\n"
     ]
    }
   ],
   "source": [
    "# add your idea here\n",
    "# your algorithm time complexity is: O(n)\n",
    "# 遍历数组时，用哈希表记录每个数出现的位置，每遇到一个新数，就检查它是否能与表中某个数配对成目标值，若能则返回它们的下标。\n",
    "a = [2, 7, 11, 15]\n",
    "goal = 9\n",
    "seen = {}\n",
    "for i in range(len(a)):\n",
    "    left = goal - a[i]\n",
    "    if left in seen:\n",
    "        print([seen[left], i])\n",
    "        break\n",
    "    seen[a[i]] = i\n"
   ]
  },
  {
   "cell_type": "markdown",
   "metadata": {},
   "source": [
    "## 问题 3:   \n",
    "\n",
    "> 栈是一种常用的数据结构，编译器中通常使用栈来实现表达式求值。\n",
    ">\n",
    "> 以表达式 $3+5 \\times 8-6$​ 为例。编译器使用两个栈来完成运算，即一个栈保持操作数，另一个栈保存运算符。\n",
    ">\n",
    "> 1. 从左向右遍历表达式，遇到数字就压入操作数栈；\n",
    ">\n",
    "> 2. 遇到运算符，就与运算符栈的栈顶元素进行比较。如果比运算符栈顶元素的优先级高，就将当前运算符压入栈；如果比运算符栈顶元素的优先级低或者相同，从运算符栈中取栈顶运算符，从操作数栈的栈顶取 2 个操作数，然后进行计算，再把计算完的结果压入操作数栈，继续比较。\n",
    ">\n",
    "> 下图是 $3+5 \\times 8-6$  这个表达式的计算过程：\n",
    "\n",
    "![figure](./fig/hw2q3.png)\n",
    "\n",
    "根据上述原理，请设计一个算法完成表达式的运算，当输入为表达式字符串，返回对应的计算结果。分析算法设计思路，计算时间复杂度，并基于python编程实现\n",
    "\n",
    "**note：**\n",
    "\n",
    "1. 假设输入的表达式只会出现加（“+”），减 “-”， 乘“*”，除 “/” 四个运算符, 表达式中只会出现正整数\n",
    "2. python中` str.isdigit()`函数可以判断字符串str是否为数字，\n",
    "\n",
    "\n",
    "\n",
    "e.g. :\n",
    "---\n",
    "\n",
    "1. 输入：“$3+5 * 8 -6$”   输出：37\n",
    "\n",
    "2. 输入：“$34+13*9 + 44-12/3$”  输出：191"
   ]
  },
  {
   "cell_type": "markdown",
   "metadata": {},
   "source": [
    "idea：从左到右扫表达式，数字入数栈，遇到运算符时与符号栈顶比较优先级，高优先级就进栈，低优先级就弹栈算完后再进栈，最终栈里只剩结果。"
   ]
  },
  {
   "cell_type": "code",
   "execution_count": 6,
   "metadata": {},
   "outputs": [
    {
     "name": "stdin",
     "output_type": "stream",
     "text": [
      " 3+5*8-6\n"
     ]
    },
    {
     "name": "stdout",
     "output_type": "stream",
     "text": [
      "37\n"
     ]
    }
   ],
   "source": [
    "# add your idea here\n",
    "# your algorithm time complexity is: \n",
    "s = input()\n",
    "\n",
    "nums=[]; ops=[]\n",
    "lv={'+' :1,'-' :1,'*' :2,'/' :2}\n",
    "i=0\n",
    "while i<len(s):\n",
    "    if s[i].isdigit():\n",
    "        j=i\n",
    "        while j<len(s) and s[j].isdigit(): j+=1\n",
    "        nums+=[int(s[i:j])]\n",
    "        i=j\n",
    "    else:\n",
    "        while ops and lv[ops[-1]]>=lv[s[i]]:\n",
    "            b=nums.pop(); a=nums.pop(); o=ops.pop()\n",
    "            if o=='+': nums+=[a+b]\n",
    "            elif o=='-': nums+=[a-b]\n",
    "            elif o=='*': nums+=[a*b]\n",
    "            else: nums+=[a//b]\n",
    "        ops+=[s[i]]; i+=1\n",
    "while ops:\n",
    "    y=nums.pop(); x=nums.pop(); o=ops.pop()\n",
    "    if o=='+': nums+=[x+y]\n",
    "    elif o=='-': nums+=[x-y]\n",
    "    elif o=='*': nums+=[x*y]\n",
    "    else: nums+=[x//y]\n",
    "\n",
    "print(nums[0])\n"
   ]
  },
  {
   "cell_type": "markdown",
   "metadata": {},
   "source": [
    "## 问题 4:  \n",
    "\n",
    "> 星球碰撞问题：现有n个星球，在同一条直线上运行，如数组A所示，元素的绝对值表示星球的质量，负数表示星球自右向左运动，正数表示星球自左向右运动，当两个星球相撞的时候，质量小的会消失，大的保持不变，**质量相同的两个星球碰撞后自右向左运动的星球消失，自左向右的星球保持不变**，假设所有星球的速度大小相同。\n",
    ">\n",
    "> $ A=[23,-8, 9, -3, -7, 9, -23, 22] $\n",
    "\n",
    "请设计一个算法模拟星球的运行情况，输出最终的星球存续情况（输出一个数组），分析算法设计思路，计算时间复杂度，并基于python编程实现。\n",
    "\n",
    "e.g.\n",
    "---\n",
    "1.  输入： A=[-3,-6,2,8, 5,-8,9,-2,1]， 输出：[-3, -6, 2, 8, 9, 1]\n",
    "\n",
    "2. 输入：A=[23,-8, 9, -3, -7, 9, -23, 22], 输出：[23, 22]\n",
    "\n"
   ]
  },
  {
   "cell_type": "code",
   "execution_count": 21,
   "metadata": {},
   "outputs": [
    {
     "name": "stdin",
     "output_type": "stream",
     "text": [
      " -3,-6,2,8, 5,-8,9,-2,1\n"
     ]
    },
    {
     "name": "stdout",
     "output_type": "stream",
     "text": [
      "[-3, -6, 2, 8, 9, 1]\n"
     ]
    }
   ],
   "source": [
    "# 从左到右遍历星球序列，使用一个栈维护当前存活的星球，每遇到一个向左移动的星球，与栈顶所有向右移动的星球依次比较质量进行碰撞.\n",
    "a = list(map(int, input().split(\",\")))\n",
    "stk = []\n",
    "for x in a:\n",
    "    while stk and stk[-1] > 0 and x < 0:\n",
    "        if abs(stk[-1]) < abs(x): stk.pop(); continue\n",
    "        elif abs(stk[-1]) == abs(x): break\n",
    "        else: break\n",
    "    else:\n",
    "        if not (stk and stk[-1] > 0 and x < 0 and abs(stk[-1]) == abs(x)):\n",
    "            stk.append(x)\n",
    "print(stk)\n",
    "\n"
   ]
  },
  {
   "cell_type": "markdown",
   "metadata": {},
   "source": [
    "## 问题 5 \n",
    "\n",
    "> 给定一个无序数组nums=[9,-3,-10,0,9,7,33]，请建立一个二叉搜索树存储数组中的所有元素，之后删除二叉树中的元素“0”，再使用中序遍历输出二叉搜索树中的所有元素。\n",
    "\n",
    "使用python编程完成上述任务，并计算时间复杂度\n"
   ]
  },
  {
   "cell_type": "code",
   "execution_count": 19,
   "metadata": {},
   "outputs": [
    {
     "name": "stdin",
     "output_type": "stream",
     "text": [
      " 9,-3,-10,0,9,7,33\n"
     ]
    },
    {
     "name": "stdout",
     "output_type": "stream",
     "text": [
      "-10 -3 7 9 9 33 "
     ]
    }
   ],
   "source": [
    "# add your idea here\n",
    "# your algorithm time complexity is:\n",
    "class Node:\n",
    "    def __init__(self,v): self.v=v; self.l=None; self.r=None\n",
    "def ins(rt,x):\n",
    "    if not rt: return Node(x)\n",
    "    if x<rt.v: rt.l=ins(rt.l,x)\n",
    "    else: rt.r=ins(rt.r,x)  \n",
    "    return rt\n",
    "def rem(rt,x):\n",
    "    if not rt: return None\n",
    "    if x<rt.v: rt.l=rem(rt.l,x)\n",
    "    elif x>rt.v: rt.r=rem(rt.r,x)\n",
    "    else:\n",
    "        if not rt.l: return rt.r\n",
    "        if not rt.r: return rt.l\n",
    "        t=rt.r\n",
    "        while t.l: t=t.l\n",
    "        rt.v=t.v\n",
    "        rt.r=rem(rt.r,t.v)\n",
    "    return rt\n",
    "def go(rt):\n",
    "    if rt:\n",
    "        go(rt.l)\n",
    "        print(rt.v,end=' ')\n",
    "        go(rt.r)\n",
    "\n",
    "a=list(map(int,input().split(',')))\n",
    "r=None\n",
    "for v in a: r=ins(r,v)\n",
    "r=rem(r,0)\n",
    "go(r)\n"
   ]
  },
  {
   "cell_type": "markdown",
   "metadata": {},
   "source": [
    "## 问题 6  \n",
    "\n",
    "> 给定一个包含大写字母和小写字母的字符串 s ，返回 字符串包含的 **最长的回文子串的长度** 。请注意 区分大小写 。比如 \"Aa\" 不能当做一个回文字符串。\n",
    ">\n",
    "\n",
    "请设计一个算法解决上述问题，只需要输出最长回文子串的长度，分析算法设计思路，计算时间复杂度，并基于python编程实现\n",
    "\n",
    "e.g. 输入： s=\"adccaccd\"，  输出：7。 最长回文子串为：\"dccaccd\", 长度为7\n"
   ]
  },
  {
   "cell_type": "markdown",
   "metadata": {},
   "source": [
    "idea：枚举字符串中所有以每个字符为中心的回文子串"
   ]
  },
  {
   "cell_type": "code",
   "execution_count": 1,
   "metadata": {},
   "outputs": [
    {
     "name": "stdin",
     "output_type": "stream",
     "text": [
      " adccaccd\n"
     ]
    },
    {
     "name": "stdout",
     "output_type": "stream",
     "text": [
      "7\n"
     ]
    }
   ],
   "source": [
    "# add your idea here\n",
    "# your algorithm time complexity is:\n",
    "s = input()\n",
    "mx = 0\n",
    "for i in range(len(s)):\n",
    "    l=r=i\n",
    "    while l>=0 and r<len(s) and s[l]==s[r]:\n",
    "        mx = max(mx, r-l+1)\n",
    "        l-=1; r+=1\n",
    "    l=i; r=i+1\n",
    "    while l>=0 and r<len(s) and s[l]==s[r]:\n",
    "        mx = max(mx, r-l+1)\n",
    "        l-=1; r+=1\n",
    "print(mx)\n",
    "# 算法复杂度O(n)\n"
   ]
  },
  {
   "cell_type": "markdown",
   "metadata": {},
   "source": [
    "## 问题 7 \n",
    "\n",
    "> 沿一条长河流分散着n座房子。你可以把这条河想象成一条轴，房子是由它们在这条轴上的坐标按顺序排列的。你的公司想在河边的特定地点设置手机基站，这样每户人家都在距离基站4公里的范围内。输入可以看作为一个升序数组，数组元素的取值为大于等于0的正整数，你需要输出最小基站的数目，基站的位置。\n",
    "\n",
    "1. 给出一个时间复杂度为$O(n$) 的算法，使所使用的基站数量最小化，分析算法设计思路，使用python编程实现\n",
    "2. 证明1.中算法产生了最优解决方案。\n",
    "\n",
    "e.g. \n",
    "\n",
    "输入： [1, 5, 12, 33, 34,35]  输出：基站数目为3， 基站位置为[1，12，33]\n",
    "\n"
   ]
  },
  {
   "cell_type": "markdown",
   "metadata": {},
   "source": [
    "idea：从左到右贪心扫描房子位置，每次选择最远可以覆盖的房子设基站，这样每个基站尽量覆盖更多房子，从而最小化基站数量。"
   ]
  },
  {
   "cell_type": "code",
   "execution_count": 1,
   "metadata": {},
   "outputs": [
    {
     "name": "stdout",
     "output_type": "stream",
     "text": [
      "基站数目为 3，基站位置为 [5, 12, 35]\n"
     ]
    }
   ],
   "source": [
    "# add your idea here\n",
    "# your algorithm time complexity is:\n",
    "arr = [1, 5, 12, 33, 34, 35]  # 数组内容是坐标\n",
    "res = []\n",
    "i = 0\n",
    "n = len(arr)\n",
    "while i < n:\n",
    "    s = arr[i]\n",
    "    while i < n and arr[i] - s <= 4:\n",
    "        i += 1\n",
    "    p = arr[i - 1]\n",
    "    res.append(p)\n",
    "    while i < n and arr[i] <= p + 4:\n",
    "        i += 1\n",
    "print(f\"基站数目为 {len(res)}，基站位置为 {res}\")\n",
    "\n",
    "\n",
    "\n",
    "# 时间复杂度O(n)"
   ]
  },
  {
   "cell_type": "markdown",
   "metadata": {},
   "source": [
    "贪心策略：每次选能覆盖当前房屋的最右基站位置，这样保证了：\n",
    "\n",
    "每次选择后，跳过尽可能多的房屋（减少基站数）；\n",
    "\n",
    "局部最优 → 全局最优。\n",
    "\n",
    "如果存在一个更优解（更少基站），说明某个房屋未被覆盖或重复覆盖，与题设矛盾。"
   ]
  },
  {
   "cell_type": "markdown",
   "metadata": {},
   "source": [
    "## 问题 8  \n",
    "\n",
    "> 给定由n个正整数组成的一个集合$S = \\{a_1, a_2，···，a_n\\}$和一个正整数W，设计一个算法确定是否存在S的一个子集 $K \\subseteq S$, 使K中所有数之和为 $W$, 如果存在返回“True”，否则返回“False”\n",
    "\n",
    "请设计一个时间复杂度为$O(nW)$动态规划算法，解决上述问题，分析算法的设计思路，并且基于python编程实现（不需要输出子集）。\n",
    "\n",
    "e.g. \n",
    "\n",
    "输入：S = {1,4,7,3,5}， W = 11，输出：True。   因为K可以是{4,7}。\n",
    "\n"
   ]
  },
  {
   "cell_type": "markdown",
   "metadata": {},
   "source": [
    "idea：借助ai 定义布尔数组 dp[j] 表示是否存在一个子集，其和为 j，初始 dp[0] = True；遍历每个数 a，对 dp 从大到小更新，最终判断 dp[W] 是否为 True"
   ]
  },
  {
   "cell_type": "code",
   "execution_count": 4,
   "metadata": {},
   "outputs": [
    {
     "name": "stdin",
     "output_type": "stream",
     "text": [
      " 1,4,7,3,5\n",
      " 11\n"
     ]
    },
    {
     "name": "stdout",
     "output_type": "stream",
     "text": [
      "True\n"
     ]
    }
   ],
   "source": [
    "# add your idea here\n",
    "# your algorithm time complexity is: O(nW)\n",
    "s = list(map(int, input().split(',')))\n",
    "w = int(input())\n",
    "dp = [0]*(w+1)\n",
    "dp[0]=1\n",
    "for x in s:\n",
    "    for j in range(w,x-1,-1):\n",
    "        if dp[j-x]: dp[j]=1\n",
    "print(True if dp[w] else False)\n",
    "# 时间复杂度O(nw)"
   ]
  },
  {
   "cell_type": "markdown",
   "metadata": {},
   "source": [
    "\n",
    "\n",
    "## 问题 9 \n",
    "\n",
    "> 给定一个n个物品的集合。物体的重量为$w_1, w_2，…、w_n$，物品的价值分别是$v_1、v_2、…v_n$。给你**两个**重量为 $c$ 的背包。如果你带了一个东西，它可以放在一个背包里，也可以放在另一个背包里，但不能同时放在两个背包里。所有权重和价值都是正整数。\n",
    "\n",
    "1. 设计一个时间复杂度为 $O(nc^2)$ 的动态规划算法，确定可以放入两个背包的物体的最大价值。分析算法设计思路，并基于python编程实现\n",
    "2. \\* 修改1中的算法，输出每个背包的内容（物品对应下标）。\n",
    "\n",
    "e.g.: \n",
    "\n",
    "输入 V=[1,3,2,5,8,7], W=[1,3,2,5,8,7], c=7, 输出：最大价值=14，背包装的物品为：[6] [4，3] （同一个背包中物品装入顺序对结果无影响）  \n"
   ]
  },
  {
   "cell_type": "markdown",
   "metadata": {},
   "source": [
    "idea 用三维 DP 数组 dp[i][j][k] 表示"
   ]
  },
  {
   "cell_type": "code",
   "execution_count": 5,
   "metadata": {},
   "outputs": [
    {
     "name": "stdin",
     "output_type": "stream",
     "text": [
      " 1,3,2,5,8,7\n",
      " 1,3,2,5,8,7\n",
      " 7\n"
     ]
    },
    {
     "name": "stdout",
     "output_type": "stream",
     "text": [
      "最大价值= 14\n"
     ]
    }
   ],
   "source": [
    "# add your idea here\n",
    "# your algorithm time complexity is: O(nc^2)\n",
    "w = list(map(int, input().split(',')))\n",
    "v = list(map(int, input().split(',')))\n",
    "c = int(input())\n",
    "n = len(w)\n",
    "dp = [[[0]*(c+1) for _ in range(c+1)] for _ in range(n+1)]\n",
    "\n",
    "for i in range(1,n+1):\n",
    "    for j in range(c+1):\n",
    "        for k in range(c+1):\n",
    "            dp[i][j][k] = dp[i-1][j][k]\n",
    "            if j>=w[i-1]:\n",
    "                dp[i][j][k] = max(dp[i][j][k], dp[i-1][j-w[i-1]][k]+v[i-1])\n",
    "            if k>=w[i-1]:\n",
    "                dp[i][j][k] = max(dp[i][j][k], dp[i-1][j][k-w[i-1]]+v[i-1])\n",
    "\n",
    "print(\"最大价值=\", dp[n][c][c])\n",
    "# 时间复杂度O(nc2)"
   ]
  },
  {
   "cell_type": "code",
   "execution_count": 6,
   "metadata": {},
   "outputs": [
    {
     "name": "stdout",
     "output_type": "stream",
     "text": [
      "最大价值= 14\n",
      "背包1物品索引： [6]\n",
      "背包2物品索引： [3, 4]\n"
     ]
    }
   ],
   "source": [
    "w = [1,3,2,5,8,7]\n",
    "v = [1,3,2,5,8,7]\n",
    "c = 7\n",
    "n = len(w)\n",
    "\n",
    "# dp 数组和 path 数组\n",
    "dp = [[[0]*(c+1) for _ in range(c+1)] for _ in range(n+1)]\n",
    "path = [[[None]*(c+1) for _ in range(c+1)] for _ in range(n+1)]\n",
    "\n",
    "for i in range(1, n+1):\n",
    "    for j in range(c+1):\n",
    "        for k in range(c+1):\n",
    "            # 不选第 i 个物品\n",
    "            dp[i][j][k] = dp[i-1][j][k]\n",
    "            path[i][j][k] = (j, k, 'none')\n",
    "\n",
    "            # 尝试放入背包1\n",
    "            if j >= w[i-1]:\n",
    "                val = dp[i-1][j - w[i-1]][k] + v[i-1]\n",
    "                if val > dp[i][j][k]:\n",
    "                    dp[i][j][k] = val\n",
    "                    path[i][j][k] = (j - w[i-1], k, 'b1')\n",
    "\n",
    "            # 尝试放入背包2\n",
    "            if k >= w[i-1]:\n",
    "                val = dp[i-1][j][k - w[i-1]] + v[i-1]\n",
    "                if val > dp[i][j][k]:\n",
    "                    dp[i][j][k] = val\n",
    "                    path[i][j][k] = (j, k - w[i-1], 'b2')\n",
    "\n",
    "print(\"最大价值=\", dp[n][c][c])\n",
    "\n",
    "# 回溯路径\n",
    "b1 = []\n",
    "b2 = []\n",
    "i, j, k = n, c, c\n",
    "while i > 0:\n",
    "    pj, pk, action = path[i][j][k]\n",
    "    if action == 'b1':\n",
    "        b1.append(i)\n",
    "    elif action == 'b2':\n",
    "        b2.append(i)\n",
    "    i -= 1\n",
    "    j, k = pj, pk\n",
    "\n",
    "print(\"背包1物品索引：\", sorted(b1))\n",
    "print(\"背包2物品索引：\", sorted(b2))\n",
    "# 时间复杂度O(nc2)"
   ]
  },
  {
   "cell_type": "markdown",
   "metadata": {},
   "source": [
    "## 问题 10 \n",
    "\n",
    "> 给定两个字符串 $x[1..n]$ 和 $y[1..m]$，我们想通过以下操作将 $x$ 变换为 $y$ :\n",
    ">\n",
    "> **插入**：在 $x$ 中插入一个字符(在任何位置)；**删除**：从 $x$ 中删除一个字符(在任何位置)； **替换**：用另一个字符替换 $x$ 中的一个字符。\n",
    ">\n",
    "> 例如: $x = abcd$, $y = bcfe$，\n",
    ">\n",
    "> - 将 $x$ 转换为 $y$ 的一种可能方法是：1. 删除 $x$ 开头的 $a$, $x$变成 $bcd$； 2. 将 $x$ 中的字符 $d$ 替换为字符 $f$。$x$ 变成 $bcf$； 3. 在 $x$ 的末尾插入字符 $e$。$x$ 变成 $bcfe$。\n",
    ">\n",
    "> - 另一种可能的方法：1. 删除 $x$ 开头的 $a$,  $x$ 变成 $bcd$； 2. 在 $x$ 中字符 $d$ 之前插入字符 $f$。$x$ 变成 $bcfd$。3. 将 $x$ 中的字符 $d$ 替换为字符 $e$。$x$ 变成 $bcfe$。\n",
    "\n",
    "设计一个时间复杂度为 $O(mn)$ 的算法，返回将 $x$ 转换为 $y$ 所需的最少操作次数。分析算法设计思路，并基于python编程实现。\n"
   ]
  },
  {
   "cell_type": "markdown",
   "metadata": {},
   "source": [
    "idea：用二维数组 dp[i][j] 表示将 x[0..i-1] 变成 y[0..j-1] 所需的最小操作次数，依次考虑插入、删除、替换三种操作的递推状态。\n",
    "\n",
    "\n"
   ]
  },
  {
   "cell_type": "code",
   "execution_count": 7,
   "metadata": {},
   "outputs": [
    {
     "name": "stdin",
     "output_type": "stream",
     "text": [
      " abcd\n",
      " bcfe\n"
     ]
    },
    {
     "name": "stdout",
     "output_type": "stream",
     "text": [
      "3\n"
     ]
    }
   ],
   "source": [
    "# add your idea here\n",
    "# your algorithm time complexity is: O(mn)\n",
    "x = input().strip()\n",
    "y = input().strip()\n",
    "n = len(x)\n",
    "m = len(y)\n",
    "dp = [[0]*(m+1) for _ in range(n+1)]                                                             \n",
    "\n",
    "for i in range(n+1): dp[i][0] = i\n",
    "for j in range(m+1): dp[0][j] = j\n",
    "\n",
    "for i in range(1,n+1):\n",
    "    for j in range(1,m+1):\n",
    "        if x[i-1]==y[j-1]:\n",
    "            dp[i][j]=dp[i-1][j-1]\n",
    "        else:\n",
    "            dp[i][j]=1+min(dp[i-1][j], dp[i][j-1], dp[i-1][j-1])\n",
    "\n",
    "print(dp[n][m])\n",
    "# 时间复杂度O(nm)"
   ]
  }
 ],
 "metadata": {
  "kernelspec": {
   "display_name": "Python 3 (ipykernel)",
   "language": "python",
   "name": "python3"
  },
  "language_info": {
   "codemirror_mode": {
    "name": "ipython",
    "version": 3
   },
   "file_extension": ".py",
   "mimetype": "text/x-python",
   "name": "python",
   "nbconvert_exporter": "python",
   "pygments_lexer": "ipython3",
   "version": "3.12.4"
  }
 },
 "nbformat": 4,
 "nbformat_minor": 4
}
